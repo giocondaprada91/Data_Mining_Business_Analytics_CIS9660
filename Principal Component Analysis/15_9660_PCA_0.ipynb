{
  "cells": [
    {
      "cell_type": "markdown",
      "id": "7b99650d-9b3f-47f7-82b2-a942fa64d7b7",
      "metadata": {
        "id": "7b99650d-9b3f-47f7-82b2-a942fa64d7b7"
      },
      "source": [
        "# [9660] Principal Component Analysis 0\n",
        "Data file:\n",
        "* sklearn : iris"
      ]
    },
    {
      "cell_type": "code",
      "execution_count": null,
      "id": "ab09ae67-06e7-418e-8ea3-cce7b92f2b82",
      "metadata": {
        "colab": {
          "base_uri": "https://localhost:8080/"
        },
        "id": "ab09ae67-06e7-418e-8ea3-cce7b92f2b82",
        "outputId": "83e141ea-ac61-4ebb-82cf-0eec76e3d4e0"
      },
      "outputs": [
        {
          "output_type": "stream",
          "name": "stdout",
          "text": [
            "Run time: 11/15/24 13:51:22\n"
          ]
        }
      ],
      "source": [
        "from datetime import datetime\n",
        "print(f'Run time: {datetime.now().strftime(\"%D %T\")}')"
      ]
    },
    {
      "cell_type": "markdown",
      "id": "51b4395d-4030-4951-8c31-05998d594357",
      "metadata": {
        "id": "51b4395d-4030-4951-8c31-05998d594357"
      },
      "source": [
        "### Import libraries"
      ]
    },
    {
      "cell_type": "code",
      "execution_count": null,
      "id": "52621eaf-749d-4516-928c-5ed14c4e0d93",
      "metadata": {
        "id": "52621eaf-749d-4516-928c-5ed14c4e0d93"
      },
      "outputs": [],
      "source": [
        "import numpy as np\n",
        "import pandas as pd\n",
        "import matplotlib.pyplot as plt\n",
        "from sklearn.datasets import load_iris\n",
        "from sklearn.preprocessing import StandardScaler\n",
        "from sklearn import decomposition"
      ]
    },
    {
      "cell_type": "markdown",
      "id": "71b0b21b-6f47-4bf0-ba1a-1a417012b235",
      "metadata": {
        "id": "71b0b21b-6f47-4bf0-ba1a-1a417012b235"
      },
      "source": [
        "### Load data"
      ]
    },
    {
      "cell_type": "code",
      "execution_count": null,
      "id": "9746a497-af96-4d6b-bbfa-671f3fd22fec",
      "metadata": {
        "id": "9746a497-af96-4d6b-bbfa-671f3fd22fec"
      },
      "outputs": [],
      "source": [
        "iris = load_iris()"
      ]
    },
    {
      "cell_type": "code",
      "source": [
        "print(iris.DESCR)"
      ],
      "metadata": {
        "colab": {
          "base_uri": "https://localhost:8080/"
        },
        "id": "beNHMvtIDgAr",
        "outputId": "a62532f5-bd0e-4140-c1f9-5bf8c86df02f"
      },
      "id": "beNHMvtIDgAr",
      "execution_count": null,
      "outputs": [
        {
          "output_type": "stream",
          "name": "stdout",
          "text": [
            ".. _iris_dataset:\n",
            "\n",
            "Iris plants dataset\n",
            "--------------------\n",
            "\n",
            "**Data Set Characteristics:**\n",
            "\n",
            ":Number of Instances: 150 (50 in each of three classes)\n",
            ":Number of Attributes: 4 numeric, predictive attributes and the class\n",
            ":Attribute Information:\n",
            "    - sepal length in cm\n",
            "    - sepal width in cm\n",
            "    - petal length in cm\n",
            "    - petal width in cm\n",
            "    - class:\n",
            "            - Iris-Setosa\n",
            "            - Iris-Versicolour\n",
            "            - Iris-Virginica\n",
            "\n",
            ":Summary Statistics:\n",
            "\n",
            "============== ==== ==== ======= ===== ====================\n",
            "                Min  Max   Mean    SD   Class Correlation\n",
            "============== ==== ==== ======= ===== ====================\n",
            "sepal length:   4.3  7.9   5.84   0.83    0.7826\n",
            "sepal width:    2.0  4.4   3.05   0.43   -0.4194\n",
            "petal length:   1.0  6.9   3.76   1.76    0.9490  (high!)\n",
            "petal width:    0.1  2.5   1.20   0.76    0.9565  (high!)\n",
            "============== ==== ==== ======= ===== ====================\n",
            "\n",
            ":Missing Attribute Values: None\n",
            ":Class Distribution: 33.3% for each of 3 classes.\n",
            ":Creator: R.A. Fisher\n",
            ":Donor: Michael Marshall (MARSHALL%PLU@io.arc.nasa.gov)\n",
            ":Date: July, 1988\n",
            "\n",
            "The famous Iris database, first used by Sir R.A. Fisher. The dataset is taken\n",
            "from Fisher's paper. Note that it's the same as in R, but not as in the UCI\n",
            "Machine Learning Repository, which has two wrong data points.\n",
            "\n",
            "This is perhaps the best known database to be found in the\n",
            "pattern recognition literature.  Fisher's paper is a classic in the field and\n",
            "is referenced frequently to this day.  (See Duda & Hart, for example.)  The\n",
            "data set contains 3 classes of 50 instances each, where each class refers to a\n",
            "type of iris plant.  One class is linearly separable from the other 2; the\n",
            "latter are NOT linearly separable from each other.\n",
            "\n",
            ".. dropdown:: References\n",
            "\n",
            "  - Fisher, R.A. \"The use of multiple measurements in taxonomic problems\"\n",
            "    Annual Eugenics, 7, Part II, 179-188 (1936); also in \"Contributions to\n",
            "    Mathematical Statistics\" (John Wiley, NY, 1950).\n",
            "  - Duda, R.O., & Hart, P.E. (1973) Pattern Classification and Scene Analysis.\n",
            "    (Q327.D83) John Wiley & Sons.  ISBN 0-471-22361-1.  See page 218.\n",
            "  - Dasarathy, B.V. (1980) \"Nosing Around the Neighborhood: A New System\n",
            "    Structure and Classification Rule for Recognition in Partially Exposed\n",
            "    Environments\".  IEEE Transactions on Pattern Analysis and Machine\n",
            "    Intelligence, Vol. PAMI-2, No. 1, 67-71.\n",
            "  - Gates, G.W. (1972) \"The Reduced Nearest Neighbor Rule\".  IEEE Transactions\n",
            "    on Information Theory, May 1972, 431-433.\n",
            "  - See also: 1988 MLC Proceedings, 54-64.  Cheeseman et al\"s AUTOCLASS II\n",
            "    conceptual clustering system finds 3 classes in the data.\n",
            "  - Many, many more ...\n",
            "\n"
          ]
        }
      ]
    },
    {
      "cell_type": "code",
      "source": [
        "# Setup the independent and dependent variables\n",
        "X = iris.data\n",
        "y = iris.target"
      ],
      "metadata": {
        "id": "_nZMAWU9Dg2L"
      },
      "id": "_nZMAWU9Dg2L",
      "execution_count": null,
      "outputs": []
    },
    {
      "cell_type": "markdown",
      "id": "4962afa1-33de-4520-a487-54c782439b13",
      "metadata": {
        "id": "4962afa1-33de-4520-a487-54c782439b13"
      },
      "source": [
        "### Prepare data for PCA"
      ]
    },
    {
      "cell_type": "code",
      "execution_count": null,
      "id": "c9e21156-aca9-4086-be83-4e79e9dd3189",
      "metadata": {
        "id": "c9e21156-aca9-4086-be83-4e79e9dd3189"
      },
      "outputs": [],
      "source": [
        "# Instantiate StandardScalar\n",
        "scaler = StandardScaler()\n",
        "\n",
        "# Standardize the independent variables\n",
        "X_scaled = scaler.fit_transform(X)"
      ]
    },
    {
      "cell_type": "markdown",
      "source": [
        "### Perform PCA (not really)"
      ],
      "metadata": {
        "id": "4Uw9or93JMj-"
      },
      "id": "4Uw9or93JMj-"
    },
    {
      "cell_type": "code",
      "source": [
        "X.shape"
      ],
      "metadata": {
        "colab": {
          "base_uri": "https://localhost:8080/"
        },
        "id": "jt-DhzeO_ufK",
        "outputId": "9c5bc67d-5cee-44de-df14-b4c622e02457"
      },
      "id": "jt-DhzeO_ufK",
      "execution_count": null,
      "outputs": [
        {
          "output_type": "execute_result",
          "data": {
            "text/plain": [
              "(150, 4)"
            ]
          },
          "metadata": {},
          "execution_count": 7
        }
      ]
    },
    {
      "cell_type": "code",
      "source": [
        "# Apply PCA (keep all 4 features to see the variance among the independent variables)\n",
        "pca_1 = decomposition.PCA(n_components=4, random_state=42)"
      ],
      "metadata": {
        "id": "Lb7j0WtdJQDP"
      },
      "id": "Lb7j0WtdJQDP",
      "execution_count": null,
      "outputs": []
    },
    {
      "cell_type": "code",
      "source": [
        "# NOTE: The pca.fit method fits the PCA model to the data but DOES NOT transform it\n",
        "#  - It computes the principal components and stores the necessary parameters\n",
        "#    (eigenvalues, eigenvectors, etc.) internally\n",
        "#  - It does not apply the dimensionality reduction to the data\n",
        "#  - It is used to examine the components or eigenvalues without transforming the\n",
        "#    data immediately\n",
        "X_pca_1 = pca_1.fit(X_scaled)"
      ],
      "metadata": {
        "id": "gN_IjnYTD23P"
      },
      "id": "gN_IjnYTD23P",
      "execution_count": null,
      "outputs": []
    },
    {
      "cell_type": "markdown",
      "source": [
        "### Compute cumulative variance"
      ],
      "metadata": {
        "id": "TDqPHu_M_HNY"
      },
      "id": "TDqPHu_M_HNY"
    },
    {
      "cell_type": "code",
      "source": [
        "# Calculate explained variance ratio for each principal component\n",
        "explained_variance = pca_1.explained_variance_ratio_\n",
        "explained_variance"
      ],
      "metadata": {
        "colab": {
          "base_uri": "https://localhost:8080/"
        },
        "id": "W5pqzDMZKd5m",
        "outputId": "38cd799e-34a6-4849-8417-d5cc380b29af"
      },
      "id": "W5pqzDMZKd5m",
      "execution_count": null,
      "outputs": [
        {
          "output_type": "execute_result",
          "data": {
            "text/plain": [
              "array([0.72962445, 0.22850762, 0.03668922, 0.00517871])"
            ]
          },
          "metadata": {},
          "execution_count": 10
        }
      ]
    },
    {
      "cell_type": "code",
      "source": [
        "# Calculate cumulative explained variance\n",
        "cumulative_variance = np.cumsum(explained_variance)\n",
        "cumulative_variance"
      ],
      "metadata": {
        "colab": {
          "base_uri": "https://localhost:8080/"
        },
        "id": "f5CxU4znLzX3",
        "outputId": "61cb7d7a-9893-461a-9191-cb7d4d7d1c96"
      },
      "id": "f5CxU4znLzX3",
      "execution_count": null,
      "outputs": [
        {
          "output_type": "execute_result",
          "data": {
            "text/plain": [
              "array([0.72962445, 0.95813207, 0.99482129, 1.        ])"
            ]
          },
          "metadata": {},
          "execution_count": 11
        }
      ]
    },
    {
      "cell_type": "code",
      "source": [
        "# Visualize cumulative explained variance\n",
        "plt.figure(figsize=(6,4))\n",
        "plt.plot(range(1, len(cumulative_variance)+1), cumulative_variance, marker='o', linestyle='--', color='b')\n",
        "plt.title('Cumulative Explained Variance')\n",
        "plt.xlabel('Number of Principal Components')\n",
        "plt.ylabel('Cumulative Explained Variance')\n",
        "plt.grid()\n",
        "plt.show()"
      ],
      "metadata": {
        "colab": {
          "base_uri": "https://localhost:8080/",
          "height": 410
        },
        "id": "hjB6p3RDJfGk",
        "outputId": "3a5f3de5-17dd-4d14-fae5-f6700036210e"
      },
      "id": "hjB6p3RDJfGk",
      "execution_count": null,
      "outputs": [
        {
          "output_type": "display_data",
          "data": {
            "text/plain": [
              "<Figure size 600x400 with 1 Axes>"
            ],
            "image/png": "[encoded data removed]"
          },
          "metadata": {}
        }
      ]
    },
    {
      "cell_type": "markdown",
      "id": "1e2c801a-42e8-4f74-b1b2-ec89f9126b10",
      "metadata": {
        "id": "1e2c801a-42e8-4f74-b1b2-ec89f9126b10"
      },
      "source": [
        "### Perform Principal Component Analysis (PCA)"
      ]
    },
    {
      "cell_type": "code",
      "execution_count": null,
      "id": "bfef3213-c2c7-4dce-be7e-9036e4266de5",
      "metadata": {
        "id": "bfef3213-c2c7-4dce-be7e-9036e4266de5"
      },
      "outputs": [],
      "source": [
        "# Apply PCA to reduce the independent variables to N components\n",
        "pca_2 = decomposition.PCA(n_components=2, random_state=42)"
      ]
    },
    {
      "cell_type": "code",
      "source": [
        "# NOTE: The pca.fit_transform method fits the PCA model to the data and directly\n",
        "#       applies the dimensionality reduction transformation\n",
        "#  - Performs the same fitting process as pca.fit iAND mmediately transforms the\n",
        "#    data into the lower-dimensional space defined by the principal components\n",
        "#  - It is used to fit the PCA model and transform the data in a single step\n",
        "X_pca_2 = pca_2.fit_transform(X_scaled)"
      ],
      "metadata": {
        "id": "qc2UPYruEu6R"
      },
      "id": "qc2UPYruEu6R",
      "execution_count": null,
      "outputs": []
    },
    {
      "cell_type": "code",
      "source": [
        "X_pca_2.shape"
      ],
      "metadata": {
        "colab": {
          "base_uri": "https://localhost:8080/"
        },
        "id": "dr6iz-P0AKTT",
        "outputId": "2c2d74ac-0752-4e98-c13e-8fafc8264473"
      },
      "id": "dr6iz-P0AKTT",
      "execution_count": null,
      "outputs": [
        {
          "output_type": "execute_result",
          "data": {
            "text/plain": [
              "(150, 2)"
            ]
          },
          "metadata": {},
          "execution_count": 15
        }
      ]
    },
    {
      "cell_type": "code",
      "execution_count": null,
      "id": "a56f5c17-89e8-4867-87b9-d4ca57b7d124",
      "metadata": {
        "colab": {
          "base_uri": "https://localhost:8080/"
        },
        "id": "a56f5c17-89e8-4867-87b9-d4ca57b7d124",
        "outputId": "e69531e0-fb92-4465-ba6e-a5ecb4f17ecc"
      },
      "outputs": [
        {
          "output_type": "execute_result",
          "data": {
            "text/plain": [
              "array([[-2.26470281,  0.4800266 ],\n",
              "       [-2.08096115, -0.67413356],\n",
              "       [-2.36422905, -0.34190802],\n",
              "       [-2.29938422, -0.59739451],\n",
              "       [-2.38984217,  0.64683538],\n",
              "       [-2.07563095,  1.48917752],\n",
              "       [-2.44402884,  0.0476442 ],\n",
              "       [-2.23284716,  0.22314807],\n",
              "       [-2.33464048, -1.11532768],\n",
              "       [-2.18432817, -0.46901356],\n",
              "       [-2.1663101 ,  1.04369065],\n",
              "       [-2.32613087,  0.13307834],\n",
              "       [-2.2184509 , -0.72867617],\n",
              "       [-2.6331007 , -0.96150673],\n",
              "       [-2.1987406 ,  1.86005711],\n",
              "       [-2.26221453,  2.68628449],\n",
              "       [-2.2075877 ,  1.48360936],\n",
              "       [-2.19034951,  0.48883832],\n",
              "       [-1.898572  ,  1.40501879],\n",
              "       [-2.34336905,  1.12784938],\n",
              "       [-1.914323  ,  0.40885571],\n",
              "       [-2.20701284,  0.92412143],\n",
              "       [-2.7743447 ,  0.45834367],\n",
              "       [-1.81866953,  0.08555853],\n",
              "       [-2.22716331,  0.13725446],\n",
              "       [-1.95184633, -0.62561859],\n",
              "       [-2.05115137,  0.24216355],\n",
              "       [-2.16857717,  0.52714953],\n",
              "       [-2.13956345,  0.31321781],\n",
              "       [-2.26526149, -0.3377319 ],\n",
              "       [-2.14012214, -0.50454069],\n",
              "       [-1.83159477,  0.42369507],\n",
              "       [-2.61494794,  1.79357586],\n",
              "       [-2.44617739,  2.15072788],\n",
              "       [-2.10997488, -0.46020184],\n",
              "       [-2.2078089 , -0.2061074 ],\n",
              "       [-2.04514621,  0.66155811],\n",
              "       [-2.52733191,  0.59229277],\n",
              "       [-2.42963258, -0.90418004],\n",
              "       [-2.16971071,  0.26887896],\n",
              "       [-2.28647514,  0.44171539],\n",
              "       [-1.85812246, -2.33741516],\n",
              "       [-2.5536384 , -0.47910069],\n",
              "       [-1.96444768,  0.47232667],\n",
              "       [-2.13705901,  1.14222926],\n",
              "       [-2.0697443 , -0.71105273],\n",
              "       [-2.38473317,  1.1204297 ],\n",
              "       [-2.39437631, -0.38624687],\n",
              "       [-2.22944655,  0.99795976],\n",
              "       [-2.20383344,  0.00921636],\n",
              "       [ 1.10178118,  0.86297242],\n",
              "       [ 0.73133743,  0.59461473],\n",
              "       [ 1.24097932,  0.61629765],\n",
              "       [ 0.40748306, -1.75440399],\n",
              "       [ 1.0754747 , -0.20842105],\n",
              "       [ 0.38868734, -0.59328364],\n",
              "       [ 0.74652974,  0.77301931],\n",
              "       [-0.48732274, -1.85242909],\n",
              "       [ 0.92790164,  0.03222608],\n",
              "       [ 0.01142619, -1.03401828],\n",
              "       [-0.11019628, -2.65407282],\n",
              "       [ 0.44069345, -0.06329519],\n",
              "       [ 0.56210831, -1.76472438],\n",
              "       [ 0.71956189, -0.18622461],\n",
              "       [-0.0333547 , -0.43900321],\n",
              "       [ 0.87540719,  0.50906396],\n",
              "       [ 0.35025167, -0.19631173],\n",
              "       [ 0.15881005, -0.79209574],\n",
              "       [ 1.22509363, -1.6222438 ],\n",
              "       [ 0.1649179 , -1.30260923],\n",
              "       [ 0.73768265,  0.39657156],\n",
              "       [ 0.47628719, -0.41732028],\n",
              "       [ 1.2341781 , -0.93332573],\n",
              "       [ 0.6328582 , -0.41638772],\n",
              "       [ 0.70266118, -0.06341182],\n",
              "       [ 0.87427365,  0.25079339],\n",
              "       [ 1.25650912, -0.07725602],\n",
              "       [ 1.35840512,  0.33131168],\n",
              "       [ 0.66480037, -0.22592785],\n",
              "       [-0.04025861, -1.05871855],\n",
              "       [ 0.13079518, -1.56227183],\n",
              "       [ 0.02345269, -1.57247559],\n",
              "       [ 0.24153827, -0.77725638],\n",
              "       [ 1.06109461, -0.63384324],\n",
              "       [ 0.22397877, -0.28777351],\n",
              "       [ 0.42913912,  0.84558224],\n",
              "       [ 1.04872805,  0.5220518 ],\n",
              "       [ 1.04453138, -1.38298872],\n",
              "       [ 0.06958832, -0.21950333],\n",
              "       [ 0.28347724, -1.32932464],\n",
              "       [ 0.27907778, -1.12002852],\n",
              "       [ 0.62456979,  0.02492303],\n",
              "       [ 0.33653037, -0.98840402],\n",
              "       [-0.36218338, -2.01923787],\n",
              "       [ 0.28858624, -0.85573032],\n",
              "       [ 0.09136066, -0.18119213],\n",
              "       [ 0.22771687, -0.38492008],\n",
              "       [ 0.57638829, -0.1548736 ],\n",
              "       [-0.44766702, -1.54379203],\n",
              "       [ 0.25673059, -0.5988518 ],\n",
              "       [ 1.84456887,  0.87042131],\n",
              "       [ 1.15788161, -0.69886986],\n",
              "       [ 2.20526679,  0.56201048],\n",
              "       [ 1.44015066, -0.04698759],\n",
              "       [ 1.86781222,  0.29504482],\n",
              "       [ 2.75187334,  0.8004092 ],\n",
              "       [ 0.36701769, -1.56150289],\n",
              "       [ 2.30243944,  0.42006558],\n",
              "       [ 2.00668647, -0.71143865],\n",
              "       [ 2.25977735,  1.92101038],\n",
              "       [ 1.36417549,  0.69275645],\n",
              "       [ 1.60267867, -0.42170045],\n",
              "       [ 1.8839007 ,  0.41924965],\n",
              "       [ 1.2601151 , -1.16226042],\n",
              "       [ 1.4676452 , -0.44227159],\n",
              "       [ 1.59007732,  0.67624481],\n",
              "       [ 1.47143146,  0.25562182],\n",
              "       [ 2.42632899,  2.55666125],\n",
              "       [ 3.31069558,  0.01778095],\n",
              "       [ 1.26376667, -1.70674538],\n",
              "       [ 2.0377163 ,  0.91046741],\n",
              "       [ 0.97798073, -0.57176432],\n",
              "       [ 2.89765149,  0.41364106],\n",
              "       [ 1.33323218, -0.48181122],\n",
              "       [ 1.7007339 ,  1.01392187],\n",
              "       [ 1.95432671,  1.0077776 ],\n",
              "       [ 1.17510363, -0.31639447],\n",
              "       [ 1.02095055,  0.06434603],\n",
              "       [ 1.78834992, -0.18736121],\n",
              "       [ 1.86364755,  0.56229073],\n",
              "       [ 2.43595373,  0.25928443],\n",
              "       [ 2.30492772,  2.62632347],\n",
              "       [ 1.86270322, -0.17854949],\n",
              "       [ 1.11414774, -0.29292262],\n",
              "       [ 1.2024733 , -0.81131527],\n",
              "       [ 2.79877045,  0.85680333],\n",
              "       [ 1.57625591,  1.06858111],\n",
              "       [ 1.3462921 ,  0.42243061],\n",
              "       [ 0.92482492,  0.0172231 ],\n",
              "       [ 1.85204505,  0.67612817],\n",
              "       [ 2.01481043,  0.61388564],\n",
              "       [ 1.90178409,  0.68957549],\n",
              "       [ 1.15788161, -0.69886986],\n",
              "       [ 2.04055823,  0.8675206 ],\n",
              "       [ 1.9981471 ,  1.04916875],\n",
              "       [ 1.87050329,  0.38696608],\n",
              "       [ 1.56458048, -0.89668681],\n",
              "       [ 1.5211705 ,  0.26906914],\n",
              "       [ 1.37278779,  1.01125442],\n",
              "       [ 0.96065603, -0.02433167]])"
            ]
          },
          "metadata": {},
          "execution_count": 16
        }
      ],
      "source": [
        "X_pca_2"
      ]
    },
    {
      "cell_type": "markdown",
      "id": "fc61072a-ded3-4eb6-abfc-ddbc7cd6df2b",
      "metadata": {
        "id": "fc61072a-ded3-4eb6-abfc-ddbc7cd6df2b"
      },
      "source": [
        "#### Calculate variance ratios for each principal component"
      ]
    },
    {
      "cell_type": "code",
      "execution_count": null,
      "id": "2a0593fd-8fef-4db9-b3b2-ad186998594b",
      "metadata": {
        "colab": {
          "base_uri": "https://localhost:8080/"
        },
        "id": "2a0593fd-8fef-4db9-b3b2-ad186998594b",
        "outputId": "007ca858-e9fc-4f6a-91fa-75f854a431c8"
      },
      "outputs": [
        {
          "output_type": "stream",
          "name": "stdout",
          "text": [
            "1st component ratio = 0.7615\n",
            "2nd component ratio = 0.2385\n"
          ]
        }
      ],
      "source": [
        "ex_variance = np.var(X_pca_2, axis=0)\n",
        "ex_variance_ratio = ex_variance/np.sum(ex_variance)\n",
        "print(f\"1st component ratio = {round(ex_variance_ratio[0],4)}\")\n",
        "print(f\"2nd component ratio = {round(ex_variance_ratio[1],4)}\")"
      ]
    },
    {
      "cell_type": "markdown",
      "source": [
        "### Plot the principal components against their target classes"
      ],
      "metadata": {
        "id": "vAIoQSVLFXPQ"
      },
      "id": "vAIoQSVLFXPQ"
    },
    {
      "cell_type": "code",
      "source": [
        "# Create dataframe of principal components\n",
        "df = pd.DataFrame(data=X_pca_2, columns=['PC1', 'PC2'])\n",
        "df = pd.concat([df, pd.DataFrame(y, columns=['target'])], axis=1)\n",
        "\n",
        "# Visualize principal components\n",
        "plt.figure(figsize=(8,6))\n",
        "targets = [0, 1, 2]\n",
        "colors = ['r', 'g', 'b']\n",
        "for target, color in zip(targets, colors):\n",
        "    indices = df['target'] == target\n",
        "    plt.scatter(df.loc[indices, 'PC1'],\n",
        "                df.loc[indices, 'PC2'],\n",
        "                c=color,\n",
        "                s=10)\n",
        "plt.legend(iris.target_names)\n",
        "plt.xlabel('Principal Component 1')\n",
        "plt.ylabel('Principal Component 2')\n",
        "plt.title('PCA of Iris Dataset')\n",
        "plt.show()"
      ],
      "metadata": {
        "colab": {
          "base_uri": "https://localhost:8080/",
          "height": 564
        },
        "id": "0umjHeDqFfT6",
        "outputId": "a39e8148-21c8-454b-bfa7-ff63b0f3db3b"
      },
      "id": "0umjHeDqFfT6",
      "execution_count": null,
      "outputs": [
        {
          "output_type": "display_data",
          "data": {
            "text/plain": [
              "<Figure size 800x600 with 1 Axes>"
            ],
            "image/png": "[encoded data removed]"
          },
          "metadata": {}
        }
      ]
    },
    {
      "cell_type": "markdown",
      "id": "d6dcc56a-cf57-49ee-a9c3-82b0d1ea5082",
      "metadata": {
        "id": "d6dcc56a-cf57-49ee-a9c3-82b0d1ea5082"
      },
      "source": [
        "#### Review each original feature's contribution to each principal component"
      ]
    },
    {
      "cell_type": "code",
      "execution_count": null,
      "id": "dbfa27fa-ffe5-4d64-a869-78e6ca123cef",
      "metadata": {
        "colab": {
          "base_uri": "https://localhost:8080/"
        },
        "id": "dbfa27fa-ffe5-4d64-a869-78e6ca123cef",
        "outputId": "d0f10a24-e12c-4d1a-a458-6b78de727392"
      },
      "outputs": [
        {
          "output_type": "execute_result",
          "data": {
            "text/plain": [
              "array([[ 0.52106591, -0.26934744,  0.5804131 ,  0.56485654],\n",
              "       [ 0.37741762,  0.92329566,  0.02449161,  0.06694199]])"
            ]
          },
          "metadata": {},
          "execution_count": 19
        }
      ],
      "source": [
        "pca_2.components_"
      ]
    },
    {
      "cell_type": "code",
      "execution_count": null,
      "id": "3d19f931-b1c9-49ed-8a52-029113073259",
      "metadata": {
        "colab": {
          "base_uri": "https://localhost:8080/",
          "height": 477
        },
        "id": "3d19f931-b1c9-49ed-8a52-029113073259",
        "outputId": "7e6bc3c4-073b-421f-e860-e76b86e8b5b9"
      },
      "outputs": [
        {
          "output_type": "display_data",
          "data": {
            "text/plain": [
              "<Figure size 960x480 with 2 Axes>"
            ],
            "image/png": "[encoded data removed]"
          },
          "metadata": {}
        }
      ],
      "source": [
        "plt.matshow(pca_2.components_, cmap='Set3')\n",
        "plt.yticks([0,1], ['Principal Component 1','Principal Component 2'], fontsize=10)\n",
        "plt.colorbar()\n",
        "plt.xticks(range(len(iris.feature_names)), iris.feature_names,\n",
        "           rotation=45, ha='left')\n",
        "plt.show()"
      ]
    }
  ],
  "metadata": {
    "kernelspec": {
      "display_name": "Python 3 (ipykernel)",
      "language": "python",
      "name": "python3"
    },
    "language_info": {
      "codemirror_mode": {
        "name": "ipython",
        "version": 3
      },
      "file_extension": ".py",
      "mimetype": "text/x-python",
      "name": "python",
      "nbconvert_exporter": "python",
      "pygments_lexer": "ipython3",
      "version": "3.8.8"
    },
    "colab": {
      "provenance": []
    }
  },
  "nbformat": 4,
  "nbformat_minor": 5
}